{
 "cells": [
  {
   "cell_type": "code",
   "execution_count": 1,
   "metadata": {},
   "outputs": [],
   "source": [
    "import pandas as pd\n",
    "from datetime import date"
   ]
  },
  {
   "cell_type": "code",
   "execution_count": 2,
   "metadata": {},
   "outputs": [],
   "source": [
    "df = pd.read_csv('TMDB_movie_dataset_v11.csv')"
   ]
  },
  {
   "cell_type": "code",
   "execution_count": 3,
   "metadata": {},
   "outputs": [
    {
     "data": {
      "text/html": [
       "<div>\n",
       "<style scoped>\n",
       "    .dataframe tbody tr th:only-of-type {\n",
       "        vertical-align: middle;\n",
       "    }\n",
       "\n",
       "    .dataframe tbody tr th {\n",
       "        vertical-align: top;\n",
       "    }\n",
       "\n",
       "    .dataframe thead th {\n",
       "        text-align: right;\n",
       "    }\n",
       "</style>\n",
       "<table border=\"1\" class=\"dataframe\">\n",
       "  <thead>\n",
       "    <tr style=\"text-align: right;\">\n",
       "      <th></th>\n",
       "      <th>id</th>\n",
       "      <th>title</th>\n",
       "      <th>vote_average</th>\n",
       "      <th>vote_count</th>\n",
       "      <th>status</th>\n",
       "      <th>release_date</th>\n",
       "      <th>revenue</th>\n",
       "      <th>runtime</th>\n",
       "      <th>adult</th>\n",
       "      <th>backdrop_path</th>\n",
       "      <th>...</th>\n",
       "      <th>original_title</th>\n",
       "      <th>overview</th>\n",
       "      <th>popularity</th>\n",
       "      <th>poster_path</th>\n",
       "      <th>tagline</th>\n",
       "      <th>genres</th>\n",
       "      <th>production_companies</th>\n",
       "      <th>production_countries</th>\n",
       "      <th>spoken_languages</th>\n",
       "      <th>keywords</th>\n",
       "    </tr>\n",
       "  </thead>\n",
       "  <tbody>\n",
       "    <tr>\n",
       "      <th>1159124</th>\n",
       "      <td>786565</td>\n",
       "      <td>The Return of Bruce Nauman’s Bouncing Balls</td>\n",
       "      <td>0.0</td>\n",
       "      <td>0</td>\n",
       "      <td>Released</td>\n",
       "      <td>2006-07-07</td>\n",
       "      <td>0</td>\n",
       "      <td>8</td>\n",
       "      <td>False</td>\n",
       "      <td>NaN</td>\n",
       "      <td>...</td>\n",
       "      <td>The Return of Bruce Nauman’s Bouncing Balls</td>\n",
       "      <td>Conceived as an ironic tribute, the “Bruce Nau...</td>\n",
       "      <td>0.628</td>\n",
       "      <td>NaN</td>\n",
       "      <td>NaN</td>\n",
       "      <td>NaN</td>\n",
       "      <td>NaN</td>\n",
       "      <td>NaN</td>\n",
       "      <td>NaN</td>\n",
       "      <td>NaN</td>\n",
       "    </tr>\n",
       "    <tr>\n",
       "      <th>68934</th>\n",
       "      <td>140172</td>\n",
       "      <td>Cool Air</td>\n",
       "      <td>4.8</td>\n",
       "      <td>12</td>\n",
       "      <td>Released</td>\n",
       "      <td>2006-11-03</td>\n",
       "      <td>0</td>\n",
       "      <td>88</td>\n",
       "      <td>False</td>\n",
       "      <td>NaN</td>\n",
       "      <td>...</td>\n",
       "      <td>Cool Air</td>\n",
       "      <td>Charlie Baxter, a struggling screenwriter, is ...</td>\n",
       "      <td>1.514</td>\n",
       "      <td>/rtnli56H9xKUwtETeHxjUuuYaRU.jpg</td>\n",
       "      <td>DEATH COMES COLDLY</td>\n",
       "      <td>Horror</td>\n",
       "      <td>NaN</td>\n",
       "      <td>United States of America</td>\n",
       "      <td>NaN</td>\n",
       "      <td>NaN</td>\n",
       "    </tr>\n",
       "    <tr>\n",
       "      <th>484828</th>\n",
       "      <td>1142303</td>\n",
       "      <td>Mexico 2</td>\n",
       "      <td>0.0</td>\n",
       "      <td>0</td>\n",
       "      <td>Released</td>\n",
       "      <td>1961-01-01</td>\n",
       "      <td>0</td>\n",
       "      <td>13</td>\n",
       "      <td>False</td>\n",
       "      <td>NaN</td>\n",
       "      <td>...</td>\n",
       "      <td>Mexico 2</td>\n",
       "      <td>Soundtrack:  Manuel de Falla's HOMENAJE, POUR ...</td>\n",
       "      <td>0.600</td>\n",
       "      <td>NaN</td>\n",
       "      <td>NaN</td>\n",
       "      <td>NaN</td>\n",
       "      <td>NaN</td>\n",
       "      <td>NaN</td>\n",
       "      <td>NaN</td>\n",
       "      <td>NaN</td>\n",
       "    </tr>\n",
       "    <tr>\n",
       "      <th>1018643</th>\n",
       "      <td>822962</td>\n",
       "      <td>Loiter</td>\n",
       "      <td>0.0</td>\n",
       "      <td>0</td>\n",
       "      <td>Released</td>\n",
       "      <td>2021-01-30</td>\n",
       "      <td>0</td>\n",
       "      <td>110</td>\n",
       "      <td>False</td>\n",
       "      <td>NaN</td>\n",
       "      <td>...</td>\n",
       "      <td>Loiter</td>\n",
       "      <td>Join us in the act of loitering around the Cha...</td>\n",
       "      <td>0.600</td>\n",
       "      <td>/pneMLBsdHOPKs0cIjVqq9R3DWo0.jpg</td>\n",
       "      <td>NaN</td>\n",
       "      <td>NaN</td>\n",
       "      <td>NaN</td>\n",
       "      <td>NaN</td>\n",
       "      <td>NaN</td>\n",
       "      <td>NaN</td>\n",
       "    </tr>\n",
       "    <tr>\n",
       "      <th>919253</th>\n",
       "      <td>243371</td>\n",
       "      <td>The Tide of Traffic</td>\n",
       "      <td>0.0</td>\n",
       "      <td>0</td>\n",
       "      <td>Released</td>\n",
       "      <td>1972-01-01</td>\n",
       "      <td>0</td>\n",
       "      <td>28</td>\n",
       "      <td>False</td>\n",
       "      <td>NaN</td>\n",
       "      <td>...</td>\n",
       "      <td>The Tide of Traffic</td>\n",
       "      <td>The Tide of Traffic is a 1972 British short do...</td>\n",
       "      <td>0.600</td>\n",
       "      <td>/vLvx2B54rOQ1OrmfrB5XJjU32et.jpg</td>\n",
       "      <td>NaN</td>\n",
       "      <td>Documentary</td>\n",
       "      <td>Greenpark Productions, British Petroleum, Film...</td>\n",
       "      <td>United Kingdom</td>\n",
       "      <td>English</td>\n",
       "      <td>NaN</td>\n",
       "    </tr>\n",
       "  </tbody>\n",
       "</table>\n",
       "<p>5 rows × 24 columns</p>\n",
       "</div>"
      ],
      "text/plain": [
       "              id                                        title  vote_average  \\\n",
       "1159124   786565  The Return of Bruce Nauman’s Bouncing Balls           0.0   \n",
       "68934     140172                                     Cool Air           4.8   \n",
       "484828   1142303                                     Mexico 2           0.0   \n",
       "1018643   822962                                       Loiter           0.0   \n",
       "919253    243371                          The Tide of Traffic           0.0   \n",
       "\n",
       "         vote_count    status release_date  revenue  runtime  adult  \\\n",
       "1159124           0  Released   2006-07-07        0        8  False   \n",
       "68934            12  Released   2006-11-03        0       88  False   \n",
       "484828            0  Released   1961-01-01        0       13  False   \n",
       "1018643           0  Released   2021-01-30        0      110  False   \n",
       "919253            0  Released   1972-01-01        0       28  False   \n",
       "\n",
       "        backdrop_path  ...                               original_title  \\\n",
       "1159124           NaN  ...  The Return of Bruce Nauman’s Bouncing Balls   \n",
       "68934             NaN  ...                                     Cool Air   \n",
       "484828            NaN  ...                                     Mexico 2   \n",
       "1018643           NaN  ...                                       Loiter   \n",
       "919253            NaN  ...                          The Tide of Traffic   \n",
       "\n",
       "                                                  overview popularity  \\\n",
       "1159124  Conceived as an ironic tribute, the “Bruce Nau...      0.628   \n",
       "68934    Charlie Baxter, a struggling screenwriter, is ...      1.514   \n",
       "484828   Soundtrack:  Manuel de Falla's HOMENAJE, POUR ...      0.600   \n",
       "1018643  Join us in the act of loitering around the Cha...      0.600   \n",
       "919253   The Tide of Traffic is a 1972 British short do...      0.600   \n",
       "\n",
       "                              poster_path             tagline       genres  \\\n",
       "1159124                               NaN                 NaN          NaN   \n",
       "68934    /rtnli56H9xKUwtETeHxjUuuYaRU.jpg  DEATH COMES COLDLY       Horror   \n",
       "484828                                NaN                 NaN          NaN   \n",
       "1018643  /pneMLBsdHOPKs0cIjVqq9R3DWo0.jpg                 NaN          NaN   \n",
       "919253   /vLvx2B54rOQ1OrmfrB5XJjU32et.jpg                 NaN  Documentary   \n",
       "\n",
       "                                      production_companies  \\\n",
       "1159124                                                NaN   \n",
       "68934                                                  NaN   \n",
       "484828                                                 NaN   \n",
       "1018643                                                NaN   \n",
       "919253   Greenpark Productions, British Petroleum, Film...   \n",
       "\n",
       "             production_countries spoken_languages keywords  \n",
       "1159124                       NaN              NaN      NaN  \n",
       "68934    United States of America              NaN      NaN  \n",
       "484828                        NaN              NaN      NaN  \n",
       "1018643                       NaN              NaN      NaN  \n",
       "919253             United Kingdom          English      NaN  \n",
       "\n",
       "[5 rows x 24 columns]"
      ]
     },
     "execution_count": 3,
     "metadata": {},
     "output_type": "execute_result"
    }
   ],
   "source": [
    "df.sample(5)"
   ]
  },
  {
   "cell_type": "markdown",
   "metadata": {},
   "source": [
    "### Xóa các hàng không cần thiết:"
   ]
  },
  {
   "cell_type": "code",
   "execution_count": 4,
   "metadata": {},
   "outputs": [],
   "source": [
    "df = df.drop(columns=['backdrop_path', 'homepage', 'imdb_id', 'tagline', 'keywords'])"
   ]
  },
  {
   "cell_type": "markdown",
   "metadata": {},
   "source": [
    "### Lọc thời gian từ 1/1/2000 đến 31/3/2025:"
   ]
  },
  {
   "cell_type": "code",
   "execution_count": 5,
   "metadata": {},
   "outputs": [],
   "source": [
    "# Chuyển đổi cột release_date sang kiểu datetime\n",
    "df['release_date'] = pd.to_datetime(df['release_date'], errors='coerce')\n",
    "df['release_date'] = df['release_date'].dt.date"
   ]
  },
  {
   "cell_type": "code",
   "execution_count": 6,
   "metadata": {},
   "outputs": [
    {
     "name": "stdout",
     "output_type": "stream",
     "text": [
      "Tỷ lệ các dòng có release_date là NaT: 17.88%\n"
     ]
    }
   ],
   "source": [
    "nat_ratio = df['release_date'].isna().mean()\n",
    "print(f\"Tỷ lệ các dòng có release_date là NaT: {nat_ratio:.2%}\")"
   ]
  },
  {
   "cell_type": "code",
   "execution_count": 7,
   "metadata": {},
   "outputs": [],
   "source": [
    "df = df[(df['release_date'] >= date(2000, 1, 1)) & (df['release_date'] <= date(2025, 3, 31))]"
   ]
  },
  {
   "cell_type": "code",
   "execution_count": 8,
   "metadata": {},
   "outputs": [
    {
     "data": {
      "text/html": [
       "<div>\n",
       "<style scoped>\n",
       "    .dataframe tbody tr th:only-of-type {\n",
       "        vertical-align: middle;\n",
       "    }\n",
       "\n",
       "    .dataframe tbody tr th {\n",
       "        vertical-align: top;\n",
       "    }\n",
       "\n",
       "    .dataframe thead th {\n",
       "        text-align: right;\n",
       "    }\n",
       "</style>\n",
       "<table border=\"1\" class=\"dataframe\">\n",
       "  <thead>\n",
       "    <tr style=\"text-align: right;\">\n",
       "      <th></th>\n",
       "      <th>id</th>\n",
       "      <th>title</th>\n",
       "      <th>vote_average</th>\n",
       "      <th>vote_count</th>\n",
       "      <th>status</th>\n",
       "      <th>release_date</th>\n",
       "      <th>revenue</th>\n",
       "      <th>runtime</th>\n",
       "      <th>adult</th>\n",
       "      <th>budget</th>\n",
       "      <th>original_language</th>\n",
       "      <th>original_title</th>\n",
       "      <th>overview</th>\n",
       "      <th>popularity</th>\n",
       "      <th>poster_path</th>\n",
       "      <th>genres</th>\n",
       "      <th>production_companies</th>\n",
       "      <th>production_countries</th>\n",
       "      <th>spoken_languages</th>\n",
       "    </tr>\n",
       "  </thead>\n",
       "  <tbody>\n",
       "    <tr>\n",
       "      <th>17375</th>\n",
       "      <td>9391</td>\n",
       "      <td>Enduring Love</td>\n",
       "      <td>5.701</td>\n",
       "      <td>107</td>\n",
       "      <td>Released</td>\n",
       "      <td>2004-11-26</td>\n",
       "      <td>0</td>\n",
       "      <td>100</td>\n",
       "      <td>False</td>\n",
       "      <td>0</td>\n",
       "      <td>en</td>\n",
       "      <td>Enduring Love</td>\n",
       "      <td>Two strangers become dangerously close after w...</td>\n",
       "      <td>7.506</td>\n",
       "      <td>/ogaUARGgXWmNSuh8qnFCcbqVvZL.jpg</td>\n",
       "      <td>Drama, Thriller, Mystery</td>\n",
       "      <td>Pathé Pictures International, UK Film Council,...</td>\n",
       "      <td>United Kingdom</td>\n",
       "      <td>English</td>\n",
       "    </tr>\n",
       "    <tr>\n",
       "      <th>1086794</th>\n",
       "      <td>929595</td>\n",
       "      <td>Womanhood</td>\n",
       "      <td>0.000</td>\n",
       "      <td>0</td>\n",
       "      <td>Released</td>\n",
       "      <td>2021-11-26</td>\n",
       "      <td>0</td>\n",
       "      <td>90</td>\n",
       "      <td>False</td>\n",
       "      <td>0</td>\n",
       "      <td>en</td>\n",
       "      <td>Womanhood</td>\n",
       "      <td>In Womanhood, six famous women spanning differ...</td>\n",
       "      <td>0.600</td>\n",
       "      <td>NaN</td>\n",
       "      <td>NaN</td>\n",
       "      <td>NaN</td>\n",
       "      <td>NaN</td>\n",
       "      <td>English</td>\n",
       "    </tr>\n",
       "    <tr>\n",
       "      <th>23049</th>\n",
       "      <td>109786</td>\n",
       "      <td>Albakiara</td>\n",
       "      <td>2.200</td>\n",
       "      <td>68</td>\n",
       "      <td>Released</td>\n",
       "      <td>2008-10-28</td>\n",
       "      <td>0</td>\n",
       "      <td>93</td>\n",
       "      <td>False</td>\n",
       "      <td>0</td>\n",
       "      <td>it</td>\n",
       "      <td>Albakiara</td>\n",
       "      <td>Promiscuous teenager Chiara gets herself and h...</td>\n",
       "      <td>4.740</td>\n",
       "      <td>/DSAE8ZGTYJ9akUXc5PWKfNDADv.jpg</td>\n",
       "      <td>Drama, Crime</td>\n",
       "      <td>Albachiara, Pixeldna, RAI Cinema, Mikado Film</td>\n",
       "      <td>Italy</td>\n",
       "      <td>Italian</td>\n",
       "    </tr>\n",
       "  </tbody>\n",
       "</table>\n",
       "</div>"
      ],
      "text/plain": [
       "             id          title  vote_average  vote_count    status  \\\n",
       "17375      9391  Enduring Love         5.701         107  Released   \n",
       "1086794  929595      Womanhood         0.000           0  Released   \n",
       "23049    109786      Albakiara         2.200          68  Released   \n",
       "\n",
       "        release_date  revenue  runtime  adult  budget original_language  \\\n",
       "17375     2004-11-26        0      100  False       0                en   \n",
       "1086794   2021-11-26        0       90  False       0                en   \n",
       "23049     2008-10-28        0       93  False       0                it   \n",
       "\n",
       "        original_title                                           overview  \\\n",
       "17375    Enduring Love  Two strangers become dangerously close after w...   \n",
       "1086794      Womanhood  In Womanhood, six famous women spanning differ...   \n",
       "23049        Albakiara  Promiscuous teenager Chiara gets herself and h...   \n",
       "\n",
       "         popularity                       poster_path  \\\n",
       "17375         7.506  /ogaUARGgXWmNSuh8qnFCcbqVvZL.jpg   \n",
       "1086794       0.600                               NaN   \n",
       "23049         4.740   /DSAE8ZGTYJ9akUXc5PWKfNDADv.jpg   \n",
       "\n",
       "                           genres  \\\n",
       "17375    Drama, Thriller, Mystery   \n",
       "1086794                       NaN   \n",
       "23049                Drama, Crime   \n",
       "\n",
       "                                      production_companies  \\\n",
       "17375    Pathé Pictures International, UK Film Council,...   \n",
       "1086794                                                NaN   \n",
       "23049        Albachiara, Pixeldna, RAI Cinema, Mikado Film   \n",
       "\n",
       "        production_countries spoken_languages  \n",
       "17375         United Kingdom          English  \n",
       "1086794                  NaN          English  \n",
       "23049                  Italy          Italian  "
      ]
     },
     "execution_count": 8,
     "metadata": {},
     "output_type": "execute_result"
    }
   ],
   "source": [
    "df.sample(3)"
   ]
  },
  {
   "cell_type": "markdown",
   "metadata": {},
   "source": [
    "### Chuyển định dạng dấu thập phân từ '.' sang ',':"
   ]
  },
  {
   "cell_type": "code",
   "execution_count": 9,
   "metadata": {},
   "outputs": [],
   "source": [
    "df['vote_average'] = df['vote_average'].astype(str)\n",
    "df['popularity'] = df['popularity'].astype(str)"
   ]
  },
  {
   "cell_type": "code",
   "execution_count": 10,
   "metadata": {},
   "outputs": [],
   "source": [
    "df['vote_average'] = df['vote_average'].str.replace('.', ',', regex=False)\n",
    "df['popularity'] = df['popularity'].str.replace('.', ',', regex=False)"
   ]
  },
  {
   "cell_type": "markdown",
   "metadata": {},
   "source": [
    "### Lọc các phim có thời lượng trên 10 phút:"
   ]
  },
  {
   "cell_type": "code",
   "execution_count": 11,
   "metadata": {},
   "outputs": [],
   "source": [
    "df = df[df['runtime'] > 10]"
   ]
  },
  {
   "cell_type": "markdown",
   "metadata": {},
   "source": [
    "### Thêm cột quốc gia chính sản xuất phim:"
   ]
  },
  {
   "cell_type": "code",
   "execution_count": 12,
   "metadata": {},
   "outputs": [],
   "source": [
    "df['primary_country'] = df['production_countries'].str.split(', ').str[0]"
   ]
  },
  {
   "cell_type": "markdown",
   "metadata": {},
   "source": [
    "### Thêm cột công ty chính sản xuất phim:"
   ]
  },
  {
   "cell_type": "code",
   "execution_count": 13,
   "metadata": {},
   "outputs": [],
   "source": [
    "df['primary_company'] = df['production_companies'].str.split(', ').str[0]"
   ]
  },
  {
   "cell_type": "markdown",
   "metadata": {},
   "source": [
    "### Lọc các hàng có trạng thái là 'released':"
   ]
  },
  {
   "cell_type": "code",
   "execution_count": 14,
   "metadata": {},
   "outputs": [],
   "source": [
    "df = df[df['status'] == 'Released']"
   ]
  },
  {
   "cell_type": "markdown",
   "metadata": {},
   "source": [
    "### Genres:"
   ]
  },
  {
   "cell_type": "code",
   "execution_count": 15,
   "metadata": {},
   "outputs": [
    {
     "name": "stdout",
     "output_type": "stream",
     "text": [
      "Có 19 thể loại riêng lẻ:\n",
      "{'Documentary', 'Western', 'Adventure', 'Thriller', 'Family', 'Fantasy', 'Science Fiction', 'Comedy', 'Music', 'Crime', 'Action', 'Drama', 'Animation', 'TV Movie', 'Horror', 'Mystery', 'History', 'War', 'Romance'}\n"
     ]
    }
   ],
   "source": [
    "# Tạo một set để lưu tất cả các thể loại (loại bỏ trùng lặp ngay từ đầu)\n",
    "all_genres = set()\n",
    "\n",
    "# Lặp qua từng giá trị trong cột genres\n",
    "for genres in df['genres'].dropna():\n",
    "    if ', ' in genres:  # Nếu có dấu phẩy, tách chuỗi\n",
    "        all_genres.update(genres.split(', '))\n",
    "    else:  # Nếu không có dấu phẩy, thêm trực tiếp\n",
    "        all_genres.add(genres)\n",
    "\n",
    "# Đếm số lượng thể loại riêng lẻ\n",
    "num_genres = len(all_genres)\n",
    "\n",
    "# In kết quả\n",
    "print(f\"Có {num_genres} thể loại riêng lẻ:\")\n",
    "print(all_genres)"
   ]
  },
  {
   "cell_type": "markdown",
   "metadata": {},
   "source": [
    "---"
   ]
  },
  {
   "cell_type": "code",
   "execution_count": 16,
   "metadata": {},
   "outputs": [
    {
     "data": {
      "text/plain": [
       "Index(['id', 'title', 'vote_average', 'vote_count', 'status', 'release_date',\n",
       "       'revenue', 'runtime', 'adult', 'budget', 'original_language',\n",
       "       'original_title', 'overview', 'popularity', 'poster_path', 'genres',\n",
       "       'production_companies', 'production_countries', 'spoken_languages',\n",
       "       'primary_country', 'primary_company'],\n",
       "      dtype='object')"
      ]
     },
     "execution_count": 16,
     "metadata": {},
     "output_type": "execute_result"
    }
   ],
   "source": [
    "df.columns"
   ]
  },
  {
   "cell_type": "code",
   "execution_count": 17,
   "metadata": {},
   "outputs": [
    {
     "data": {
      "text/html": [
       "<div>\n",
       "<style scoped>\n",
       "    .dataframe tbody tr th:only-of-type {\n",
       "        vertical-align: middle;\n",
       "    }\n",
       "\n",
       "    .dataframe tbody tr th {\n",
       "        vertical-align: top;\n",
       "    }\n",
       "\n",
       "    .dataframe thead th {\n",
       "        text-align: right;\n",
       "    }\n",
       "</style>\n",
       "<table border=\"1\" class=\"dataframe\">\n",
       "  <thead>\n",
       "    <tr style=\"text-align: right;\">\n",
       "      <th></th>\n",
       "      <th>id</th>\n",
       "      <th>title</th>\n",
       "      <th>vote_average</th>\n",
       "      <th>vote_count</th>\n",
       "      <th>status</th>\n",
       "      <th>release_date</th>\n",
       "      <th>revenue</th>\n",
       "      <th>runtime</th>\n",
       "      <th>adult</th>\n",
       "      <th>budget</th>\n",
       "      <th>...</th>\n",
       "      <th>original_title</th>\n",
       "      <th>overview</th>\n",
       "      <th>popularity</th>\n",
       "      <th>poster_path</th>\n",
       "      <th>genres</th>\n",
       "      <th>production_companies</th>\n",
       "      <th>production_countries</th>\n",
       "      <th>spoken_languages</th>\n",
       "      <th>primary_country</th>\n",
       "      <th>primary_company</th>\n",
       "    </tr>\n",
       "  </thead>\n",
       "  <tbody>\n",
       "    <tr>\n",
       "      <th>465604</th>\n",
       "      <td>1016382</td>\n",
       "      <td>White Trash Nurses</td>\n",
       "      <td>0,0</td>\n",
       "      <td>0</td>\n",
       "      <td>Released</td>\n",
       "      <td>2009-03-18</td>\n",
       "      <td>0</td>\n",
       "      <td>125</td>\n",
       "      <td>True</td>\n",
       "      <td>0</td>\n",
       "      <td>...</td>\n",
       "      <td>White Trash Nurses</td>\n",
       "      <td>These sexy nurses are always on call and alway...</td>\n",
       "      <td>0,6</td>\n",
       "      <td>/6tuorp0VUy2UzifkFQH52hg9gXx.jpg</td>\n",
       "      <td>NaN</td>\n",
       "      <td>Hustler Video</td>\n",
       "      <td>NaN</td>\n",
       "      <td>English</td>\n",
       "      <td>NaN</td>\n",
       "      <td>Hustler Video</td>\n",
       "    </tr>\n",
       "    <tr>\n",
       "      <th>687861</th>\n",
       "      <td>1211004</td>\n",
       "      <td>First Time Newbies</td>\n",
       "      <td>0,0</td>\n",
       "      <td>0</td>\n",
       "      <td>Released</td>\n",
       "      <td>2023-06-05</td>\n",
       "      <td>0</td>\n",
       "      <td>205</td>\n",
       "      <td>True</td>\n",
       "      <td>0</td>\n",
       "      <td>...</td>\n",
       "      <td>First Time Newbies</td>\n",
       "      <td>Brand new 18-year-old teen newbie Xoey Li make...</td>\n",
       "      <td>0,0</td>\n",
       "      <td>/diPaMbq7ky0NU7RsNtsKa9yGNYe.jpg</td>\n",
       "      <td>NaN</td>\n",
       "      <td>Hussie Pass</td>\n",
       "      <td>United States of America</td>\n",
       "      <td>English</td>\n",
       "      <td>United States of America</td>\n",
       "      <td>Hussie Pass</td>\n",
       "    </tr>\n",
       "    <tr>\n",
       "      <th>119411</th>\n",
       "      <td>55702</td>\n",
       "      <td>The Angel Doll</td>\n",
       "      <td>5,5</td>\n",
       "      <td>5</td>\n",
       "      <td>Released</td>\n",
       "      <td>2002-09-14</td>\n",
       "      <td>0</td>\n",
       "      <td>93</td>\n",
       "      <td>False</td>\n",
       "      <td>0</td>\n",
       "      <td>...</td>\n",
       "      <td>The Angel Doll</td>\n",
       "      <td>The story of two small town boys from differen...</td>\n",
       "      <td>1,839</td>\n",
       "      <td>/5yFZBl45d48LPpXVB6UVjonHC7I.jpg</td>\n",
       "      <td>Drama, Family</td>\n",
       "      <td>NaN</td>\n",
       "      <td>United States of America</td>\n",
       "      <td>English</td>\n",
       "      <td>United States of America</td>\n",
       "      <td>NaN</td>\n",
       "    </tr>\n",
       "  </tbody>\n",
       "</table>\n",
       "<p>3 rows × 21 columns</p>\n",
       "</div>"
      ],
      "text/plain": [
       "             id               title vote_average  vote_count    status  \\\n",
       "465604  1016382  White Trash Nurses          0,0           0  Released   \n",
       "687861  1211004  First Time Newbies          0,0           0  Released   \n",
       "119411    55702      The Angel Doll          5,5           5  Released   \n",
       "\n",
       "       release_date  revenue  runtime  adult  budget  ...      original_title  \\\n",
       "465604   2009-03-18        0      125   True       0  ...  White Trash Nurses   \n",
       "687861   2023-06-05        0      205   True       0  ...  First Time Newbies   \n",
       "119411   2002-09-14        0       93  False       0  ...      The Angel Doll   \n",
       "\n",
       "                                                 overview popularity  \\\n",
       "465604  These sexy nurses are always on call and alway...        0,6   \n",
       "687861  Brand new 18-year-old teen newbie Xoey Li make...        0,0   \n",
       "119411  The story of two small town boys from differen...      1,839   \n",
       "\n",
       "                             poster_path         genres production_companies  \\\n",
       "465604  /6tuorp0VUy2UzifkFQH52hg9gXx.jpg            NaN        Hustler Video   \n",
       "687861  /diPaMbq7ky0NU7RsNtsKa9yGNYe.jpg            NaN          Hussie Pass   \n",
       "119411  /5yFZBl45d48LPpXVB6UVjonHC7I.jpg  Drama, Family                  NaN   \n",
       "\n",
       "            production_countries spoken_languages           primary_country  \\\n",
       "465604                       NaN          English                       NaN   \n",
       "687861  United States of America          English  United States of America   \n",
       "119411  United States of America          English  United States of America   \n",
       "\n",
       "       primary_company  \n",
       "465604   Hustler Video  \n",
       "687861     Hussie Pass  \n",
       "119411             NaN  \n",
       "\n",
       "[3 rows x 21 columns]"
      ]
     },
     "execution_count": 17,
     "metadata": {},
     "output_type": "execute_result"
    }
   ],
   "source": [
    "df.sample(3)"
   ]
  },
  {
   "cell_type": "code",
   "execution_count": 18,
   "metadata": {},
   "outputs": [
    {
     "data": {
      "text/plain": [
       "(422431, 21)"
      ]
     },
     "execution_count": 18,
     "metadata": {},
     "output_type": "execute_result"
    }
   ],
   "source": [
    "df.shape"
   ]
  },
  {
   "cell_type": "code",
   "execution_count": 19,
   "metadata": {},
   "outputs": [],
   "source": [
    "def missing_ratios(df):\n",
    "    return df.isna().mean().sort_values(ascending=False)"
   ]
  },
  {
   "cell_type": "code",
   "execution_count": 20,
   "metadata": {},
   "outputs": [
    {
     "data": {
      "text/plain": [
       "primary_company         0.438547\n",
       "production_companies    0.438547\n",
       "primary_country         0.340349\n",
       "production_countries    0.340349\n",
       "genres                  0.318000\n",
       "spoken_languages        0.293113\n",
       "poster_path             0.157278\n",
       "overview                0.033269\n",
       "original_title          0.000000\n",
       "popularity              0.000000\n",
       "id                      0.000000\n",
       "title                   0.000000\n",
       "budget                  0.000000\n",
       "adult                   0.000000\n",
       "runtime                 0.000000\n",
       "revenue                 0.000000\n",
       "release_date            0.000000\n",
       "status                  0.000000\n",
       "vote_count              0.000000\n",
       "vote_average            0.000000\n",
       "original_language       0.000000\n",
       "dtype: float64"
      ]
     },
     "execution_count": 20,
     "metadata": {},
     "output_type": "execute_result"
    }
   ],
   "source": [
    "missing_ratios(df)"
   ]
  },
  {
   "cell_type": "markdown",
   "metadata": {},
   "source": [
    "### Lưu dữ liệu:"
   ]
  },
  {
   "cell_type": "code",
   "execution_count": 21,
   "metadata": {},
   "outputs": [],
   "source": [
    "# Lưu DataFrame đã xử lý vào file CSV mới\n",
    "df.to_csv('TMDB_movie_dataset_2000_2025.csv', index=False)"
   ]
  },
  {
   "cell_type": "markdown",
   "metadata": {},
   "source": [
    "# Lưu ý:\n",
    "- Cột `popularity` không rõ cách tính -> **không ưu tiên** trực quan cột này.\n",
    "- Cột `genres` gồm nhiều thể loại trong một dòng, **chưa phân tách** mỗi thể loại thành mỗi cột vì sẽ làm tăng chiều dữ liệu -> tốn bộ nhớ -> giảm hiệu suất + lag máy.\n",
    "- Cột `production_countries` gồm nhiều quốc gia trong một hàng -> đã thêm cột `primary_country` chỉ gồm một quốc gia, **có thể trực quan** cột này.\n",
    "- Cột `production_companies` gồm nhiều công ty trong một hàng -> đã thêm cột `primary_company` chỉ gồm một công ty, **có thể trực quan** cột này."
   ]
  },
  {
   "cell_type": "markdown",
   "metadata": {},
   "source": [
    "---"
   ]
  },
  {
   "cell_type": "code",
   "execution_count": 2,
   "metadata": {},
   "outputs": [],
   "source": [
    "df_preprocess = pd.read_csv('TMDB_movie_dataset_2000_2025.csv')"
   ]
  },
  {
   "cell_type": "code",
   "execution_count": 3,
   "metadata": {},
   "outputs": [
    {
     "data": {
      "text/plain": [
       "(422431, 21)"
      ]
     },
     "execution_count": 3,
     "metadata": {},
     "output_type": "execute_result"
    }
   ],
   "source": [
    "df_preprocess.shape"
   ]
  },
  {
   "cell_type": "code",
   "execution_count": 11,
   "metadata": {},
   "outputs": [
    {
     "data": {
      "text/plain": [
       "422354"
      ]
     },
     "execution_count": 11,
     "metadata": {},
     "output_type": "execute_result"
    }
   ],
   "source": [
    "df_preprocess['id'].nunique()"
   ]
  },
  {
   "cell_type": "code",
   "execution_count": 12,
   "metadata": {},
   "outputs": [
    {
     "data": {
      "text/plain": [
       "74"
      ]
     },
     "execution_count": 12,
     "metadata": {},
     "output_type": "execute_result"
    }
   ],
   "source": [
    "# Đếm số hàng trùng lặp trong df_preprocess\n",
    "df_preprocess.duplicated().sum()"
   ]
  },
  {
   "cell_type": "code",
   "execution_count": 13,
   "metadata": {},
   "outputs": [],
   "source": [
    "# Xóa các hàng trùng lặp trong df_preprocess\n",
    "df_preprocess = df_preprocess.drop_duplicates()"
   ]
  },
  {
   "cell_type": "code",
   "execution_count": 16,
   "metadata": {},
   "outputs": [
    {
     "data": {
      "text/plain": [
       "(422357, 21)"
      ]
     },
     "execution_count": 16,
     "metadata": {},
     "output_type": "execute_result"
    }
   ],
   "source": [
    "df_preprocess.shape"
   ]
  },
  {
   "cell_type": "code",
   "execution_count": 17,
   "metadata": {},
   "outputs": [
    {
     "name": "stdout",
     "output_type": "stream",
     "text": [
      "Các id bị trùng lặp và số lần xuất hiện:\n",
      "id\n",
      "1260267    2\n",
      "1361654    2\n",
      "1278956    2\n",
      "Name: count, dtype: int64\n"
     ]
    }
   ],
   "source": [
    "# Tìm các giá trị id bị trùng lặp\n",
    "duplicate_ids = df_preprocess[df_preprocess.duplicated(subset='id', keep=False)]\n",
    "\n",
    "# Hiển thị các id bị trùng lặp\n",
    "duplicate_id_values = duplicate_ids['id'].value_counts()\n",
    "\n",
    "print(\"Các id bị trùng lặp và số lần xuất hiện:\")\n",
    "print(duplicate_id_values)"
   ]
  },
  {
   "cell_type": "code",
   "execution_count": 82,
   "metadata": {},
   "outputs": [
    {
     "data": {
      "text/html": [
       "<div>\n",
       "<style scoped>\n",
       "    .dataframe tbody tr th:only-of-type {\n",
       "        vertical-align: middle;\n",
       "    }\n",
       "\n",
       "    .dataframe tbody tr th {\n",
       "        vertical-align: top;\n",
       "    }\n",
       "\n",
       "    .dataframe thead th {\n",
       "        text-align: right;\n",
       "    }\n",
       "</style>\n",
       "<table border=\"1\" class=\"dataframe\">\n",
       "  <thead>\n",
       "    <tr style=\"text-align: right;\">\n",
       "      <th></th>\n",
       "      <th>id</th>\n",
       "      <th>title</th>\n",
       "      <th>vote_average</th>\n",
       "      <th>vote_count</th>\n",
       "      <th>status</th>\n",
       "      <th>release_date</th>\n",
       "      <th>revenue</th>\n",
       "      <th>runtime</th>\n",
       "      <th>adult</th>\n",
       "      <th>budget</th>\n",
       "      <th>...</th>\n",
       "      <th>original_title</th>\n",
       "      <th>overview</th>\n",
       "      <th>popularity</th>\n",
       "      <th>poster_path</th>\n",
       "      <th>genres</th>\n",
       "      <th>production_companies</th>\n",
       "      <th>production_countries</th>\n",
       "      <th>spoken_languages</th>\n",
       "      <th>primary_country</th>\n",
       "      <th>primary_company</th>\n",
       "    </tr>\n",
       "  </thead>\n",
       "  <tbody>\n",
       "    <tr>\n",
       "      <th>266116</th>\n",
       "      <td>1278956</td>\n",
       "      <td>Estancia</td>\n",
       "      <td>0,0</td>\n",
       "      <td>0</td>\n",
       "      <td>Released</td>\n",
       "      <td>2024-04-20</td>\n",
       "      <td>0</td>\n",
       "      <td>85</td>\n",
       "      <td>False</td>\n",
       "      <td>0</td>\n",
       "      <td>...</td>\n",
       "      <td>Estancia</td>\n",
       "      <td>In the chaotic and seedy heart of Medellín, th...</td>\n",
       "      <td>1,4</td>\n",
       "      <td>NaN</td>\n",
       "      <td>NaN</td>\n",
       "      <td>NaN</td>\n",
       "      <td>Colombia</td>\n",
       "      <td>NaN</td>\n",
       "      <td>Colombia</td>\n",
       "      <td>NaN</td>\n",
       "    </tr>\n",
       "  </tbody>\n",
       "</table>\n",
       "<p>1 rows × 21 columns</p>\n",
       "</div>"
      ],
      "text/plain": [
       "             id     title vote_average  vote_count    status release_date  \\\n",
       "266116  1278956  Estancia          0,0           0  Released   2024-04-20   \n",
       "\n",
       "        revenue  runtime  adult  budget  ... original_title  \\\n",
       "266116        0       85  False       0  ...       Estancia   \n",
       "\n",
       "                                                 overview popularity  \\\n",
       "266116  In the chaotic and seedy heart of Medellín, th...        1,4   \n",
       "\n",
       "       poster_path genres production_companies production_countries  \\\n",
       "266116         NaN    NaN                  NaN             Colombia   \n",
       "\n",
       "       spoken_languages primary_country primary_company  \n",
       "266116              NaN        Colombia             NaN  \n",
       "\n",
       "[1 rows x 21 columns]"
      ]
     },
     "execution_count": 82,
     "metadata": {},
     "output_type": "execute_result"
    }
   ],
   "source": [
    "# Chọn các dòng có id là 1260267\n",
    "df_preprocess[df_preprocess['id'] == 1278956]"
   ]
  },
  {
   "cell_type": "code",
   "execution_count": 75,
   "metadata": {},
   "outputs": [],
   "source": [
    "df_preprocess = df_preprocess.drop(133224)"
   ]
  },
  {
   "cell_type": "code",
   "execution_count": 78,
   "metadata": {},
   "outputs": [],
   "source": [
    "df_preprocess = df_preprocess.drop(236582)"
   ]
  },
  {
   "cell_type": "code",
   "execution_count": 81,
   "metadata": {},
   "outputs": [],
   "source": [
    "df_preprocess = df_preprocess.drop(266117)"
   ]
  },
  {
   "cell_type": "code",
   "execution_count": 83,
   "metadata": {},
   "outputs": [],
   "source": [
    "# xóa cột primary_company & primary_country\n",
    "df_preprocess = df_preprocess.drop(columns=['primary_company', 'primary_country'])"
   ]
  },
  {
   "cell_type": "code",
   "execution_count": 84,
   "metadata": {},
   "outputs": [
    {
     "data": {
      "text/html": [
       "<div>\n",
       "<style scoped>\n",
       "    .dataframe tbody tr th:only-of-type {\n",
       "        vertical-align: middle;\n",
       "    }\n",
       "\n",
       "    .dataframe tbody tr th {\n",
       "        vertical-align: top;\n",
       "    }\n",
       "\n",
       "    .dataframe thead th {\n",
       "        text-align: right;\n",
       "    }\n",
       "</style>\n",
       "<table border=\"1\" class=\"dataframe\">\n",
       "  <thead>\n",
       "    <tr style=\"text-align: right;\">\n",
       "      <th></th>\n",
       "      <th>id</th>\n",
       "      <th>title</th>\n",
       "      <th>vote_average</th>\n",
       "      <th>vote_count</th>\n",
       "      <th>status</th>\n",
       "      <th>release_date</th>\n",
       "      <th>revenue</th>\n",
       "      <th>runtime</th>\n",
       "      <th>adult</th>\n",
       "      <th>budget</th>\n",
       "      <th>original_language</th>\n",
       "      <th>original_title</th>\n",
       "      <th>overview</th>\n",
       "      <th>popularity</th>\n",
       "      <th>poster_path</th>\n",
       "      <th>genres</th>\n",
       "      <th>production_companies</th>\n",
       "      <th>production_countries</th>\n",
       "      <th>spoken_languages</th>\n",
       "    </tr>\n",
       "  </thead>\n",
       "  <tbody>\n",
       "    <tr>\n",
       "      <th>0</th>\n",
       "      <td>27205</td>\n",
       "      <td>Inception</td>\n",
       "      <td>8,364</td>\n",
       "      <td>34495</td>\n",
       "      <td>Released</td>\n",
       "      <td>2010-07-15</td>\n",
       "      <td>825532764</td>\n",
       "      <td>148</td>\n",
       "      <td>False</td>\n",
       "      <td>160000000</td>\n",
       "      <td>en</td>\n",
       "      <td>Inception</td>\n",
       "      <td>Cobb, a skilled thief who commits corporate es...</td>\n",
       "      <td>83,952</td>\n",
       "      <td>/oYuLEt3zVCKq57qu2F8dT7NIa6f.jpg</td>\n",
       "      <td>Action, Science Fiction, Adventure</td>\n",
       "      <td>Legendary Pictures, Syncopy, Warner Bros. Pict...</td>\n",
       "      <td>United Kingdom, United States of America</td>\n",
       "      <td>English, French, Japanese, Swahili</td>\n",
       "    </tr>\n",
       "    <tr>\n",
       "      <th>1</th>\n",
       "      <td>157336</td>\n",
       "      <td>Interstellar</td>\n",
       "      <td>8,417</td>\n",
       "      <td>32571</td>\n",
       "      <td>Released</td>\n",
       "      <td>2014-11-05</td>\n",
       "      <td>701729206</td>\n",
       "      <td>169</td>\n",
       "      <td>False</td>\n",
       "      <td>165000000</td>\n",
       "      <td>en</td>\n",
       "      <td>Interstellar</td>\n",
       "      <td>The adventures of a group of explorers who mak...</td>\n",
       "      <td>140,241</td>\n",
       "      <td>/gEU2QniE6E77NI6lCU6MxlNBvIx.jpg</td>\n",
       "      <td>Adventure, Drama, Science Fiction</td>\n",
       "      <td>Legendary Pictures, Syncopy, Lynda Obst Produc...</td>\n",
       "      <td>United Kingdom, United States of America</td>\n",
       "      <td>English</td>\n",
       "    </tr>\n",
       "    <tr>\n",
       "      <th>2</th>\n",
       "      <td>155</td>\n",
       "      <td>The Dark Knight</td>\n",
       "      <td>8,512</td>\n",
       "      <td>30619</td>\n",
       "      <td>Released</td>\n",
       "      <td>2008-07-16</td>\n",
       "      <td>1004558444</td>\n",
       "      <td>152</td>\n",
       "      <td>False</td>\n",
       "      <td>185000000</td>\n",
       "      <td>en</td>\n",
       "      <td>The Dark Knight</td>\n",
       "      <td>Batman raises the stakes in his war on crime. ...</td>\n",
       "      <td>130,643</td>\n",
       "      <td>/qJ2tW6WMUDux911r6m7haRef0WH.jpg</td>\n",
       "      <td>Drama, Action, Crime, Thriller</td>\n",
       "      <td>DC Comics, Legendary Pictures, Syncopy, Isobel...</td>\n",
       "      <td>United Kingdom, United States of America</td>\n",
       "      <td>English, Mandarin</td>\n",
       "    </tr>\n",
       "  </tbody>\n",
       "</table>\n",
       "</div>"
      ],
      "text/plain": [
       "       id            title vote_average  vote_count    status release_date  \\\n",
       "0   27205        Inception        8,364       34495  Released   2010-07-15   \n",
       "1  157336     Interstellar        8,417       32571  Released   2014-11-05   \n",
       "2     155  The Dark Knight        8,512       30619  Released   2008-07-16   \n",
       "\n",
       "      revenue  runtime  adult     budget original_language   original_title  \\\n",
       "0   825532764      148  False  160000000                en        Inception   \n",
       "1   701729206      169  False  165000000                en     Interstellar   \n",
       "2  1004558444      152  False  185000000                en  The Dark Knight   \n",
       "\n",
       "                                            overview popularity  \\\n",
       "0  Cobb, a skilled thief who commits corporate es...     83,952   \n",
       "1  The adventures of a group of explorers who mak...    140,241   \n",
       "2  Batman raises the stakes in his war on crime. ...    130,643   \n",
       "\n",
       "                        poster_path                              genres  \\\n",
       "0  /oYuLEt3zVCKq57qu2F8dT7NIa6f.jpg  Action, Science Fiction, Adventure   \n",
       "1  /gEU2QniE6E77NI6lCU6MxlNBvIx.jpg   Adventure, Drama, Science Fiction   \n",
       "2  /qJ2tW6WMUDux911r6m7haRef0WH.jpg      Drama, Action, Crime, Thriller   \n",
       "\n",
       "                                production_companies  \\\n",
       "0  Legendary Pictures, Syncopy, Warner Bros. Pict...   \n",
       "1  Legendary Pictures, Syncopy, Lynda Obst Produc...   \n",
       "2  DC Comics, Legendary Pictures, Syncopy, Isobel...   \n",
       "\n",
       "                       production_countries  \\\n",
       "0  United Kingdom, United States of America   \n",
       "1  United Kingdom, United States of America   \n",
       "2  United Kingdom, United States of America   \n",
       "\n",
       "                     spoken_languages  \n",
       "0  English, French, Japanese, Swahili  \n",
       "1                             English  \n",
       "2                   English, Mandarin  "
      ]
     },
     "execution_count": 84,
     "metadata": {},
     "output_type": "execute_result"
    }
   ],
   "source": [
    "df_preprocess.head(3)"
   ]
  },
  {
   "cell_type": "code",
   "execution_count": 85,
   "metadata": {},
   "outputs": [
    {
     "data": {
      "text/plain": [
       "(422354, 19)"
      ]
     },
     "execution_count": 85,
     "metadata": {},
     "output_type": "execute_result"
    }
   ],
   "source": [
    "df_preprocess.shape"
   ]
  },
  {
   "cell_type": "code",
   "execution_count": 86,
   "metadata": {},
   "outputs": [],
   "source": [
    "df_preprocess.to_csv('TMDB_movie_dataset_2000_2025.csv', index=False)"
   ]
  },
  {
   "cell_type": "markdown",
   "metadata": {},
   "source": [
    "---"
   ]
  },
  {
   "cell_type": "code",
   "execution_count": 5,
   "metadata": {},
   "outputs": [],
   "source": [
    "df_genres = pd.read_csv('movie_genre_table.csv')"
   ]
  },
  {
   "cell_type": "code",
   "execution_count": 30,
   "metadata": {},
   "outputs": [
    {
     "data": {
      "text/html": [
       "<div>\n",
       "<style scoped>\n",
       "    .dataframe tbody tr th:only-of-type {\n",
       "        vertical-align: middle;\n",
       "    }\n",
       "\n",
       "    .dataframe tbody tr th {\n",
       "        vertical-align: top;\n",
       "    }\n",
       "\n",
       "    .dataframe thead th {\n",
       "        text-align: right;\n",
       "    }\n",
       "</style>\n",
       "<table border=\"1\" class=\"dataframe\">\n",
       "  <thead>\n",
       "    <tr style=\"text-align: right;\">\n",
       "      <th></th>\n",
       "      <th>Unnamed: 0</th>\n",
       "      <th>id</th>\n",
       "      <th>Action</th>\n",
       "      <th>Science Fiction</th>\n",
       "      <th>Adventure</th>\n",
       "      <th>Drama</th>\n",
       "      <th>Crime</th>\n",
       "      <th>Thriller</th>\n",
       "      <th>Fantasy</th>\n",
       "      <th>Comedy</th>\n",
       "      <th>...</th>\n",
       "      <th>Mystery</th>\n",
       "      <th>War</th>\n",
       "      <th>Animation</th>\n",
       "      <th>Family</th>\n",
       "      <th>Horror</th>\n",
       "      <th>Music</th>\n",
       "      <th>History</th>\n",
       "      <th>Romance</th>\n",
       "      <th>TV Movie</th>\n",
       "      <th>Documentary</th>\n",
       "    </tr>\n",
       "  </thead>\n",
       "  <tbody>\n",
       "    <tr>\n",
       "      <th>0</th>\n",
       "      <td>0</td>\n",
       "      <td>27205</td>\n",
       "      <td>True</td>\n",
       "      <td>True</td>\n",
       "      <td>True</td>\n",
       "      <td>False</td>\n",
       "      <td>False</td>\n",
       "      <td>False</td>\n",
       "      <td>False</td>\n",
       "      <td>False</td>\n",
       "      <td>...</td>\n",
       "      <td>False</td>\n",
       "      <td>False</td>\n",
       "      <td>False</td>\n",
       "      <td>False</td>\n",
       "      <td>False</td>\n",
       "      <td>False</td>\n",
       "      <td>False</td>\n",
       "      <td>False</td>\n",
       "      <td>False</td>\n",
       "      <td>False</td>\n",
       "    </tr>\n",
       "    <tr>\n",
       "      <th>1</th>\n",
       "      <td>1</td>\n",
       "      <td>157336</td>\n",
       "      <td>False</td>\n",
       "      <td>True</td>\n",
       "      <td>True</td>\n",
       "      <td>True</td>\n",
       "      <td>False</td>\n",
       "      <td>False</td>\n",
       "      <td>False</td>\n",
       "      <td>False</td>\n",
       "      <td>...</td>\n",
       "      <td>False</td>\n",
       "      <td>False</td>\n",
       "      <td>False</td>\n",
       "      <td>False</td>\n",
       "      <td>False</td>\n",
       "      <td>False</td>\n",
       "      <td>False</td>\n",
       "      <td>False</td>\n",
       "      <td>False</td>\n",
       "      <td>False</td>\n",
       "    </tr>\n",
       "    <tr>\n",
       "      <th>2</th>\n",
       "      <td>2</td>\n",
       "      <td>155</td>\n",
       "      <td>True</td>\n",
       "      <td>False</td>\n",
       "      <td>False</td>\n",
       "      <td>True</td>\n",
       "      <td>True</td>\n",
       "      <td>True</td>\n",
       "      <td>False</td>\n",
       "      <td>False</td>\n",
       "      <td>...</td>\n",
       "      <td>False</td>\n",
       "      <td>False</td>\n",
       "      <td>False</td>\n",
       "      <td>False</td>\n",
       "      <td>False</td>\n",
       "      <td>False</td>\n",
       "      <td>False</td>\n",
       "      <td>False</td>\n",
       "      <td>False</td>\n",
       "      <td>False</td>\n",
       "    </tr>\n",
       "  </tbody>\n",
       "</table>\n",
       "<p>3 rows × 21 columns</p>\n",
       "</div>"
      ],
      "text/plain": [
       "   Unnamed: 0      id  Action  Science Fiction  Adventure  Drama  Crime  \\\n",
       "0           0   27205    True             True       True  False  False   \n",
       "1           1  157336   False             True       True   True  False   \n",
       "2           2     155    True            False      False   True   True   \n",
       "\n",
       "   Thriller  Fantasy  Comedy  ...  Mystery    War  Animation  Family  Horror  \\\n",
       "0     False    False   False  ...    False  False      False   False   False   \n",
       "1     False    False   False  ...    False  False      False   False   False   \n",
       "2      True    False   False  ...    False  False      False   False   False   \n",
       "\n",
       "   Music  History  Romance  TV Movie  Documentary  \n",
       "0  False    False    False     False        False  \n",
       "1  False    False    False     False        False  \n",
       "2  False    False    False     False        False  \n",
       "\n",
       "[3 rows x 21 columns]"
      ]
     },
     "execution_count": 30,
     "metadata": {},
     "output_type": "execute_result"
    }
   ],
   "source": [
    "df_genres.head(3)"
   ]
  },
  {
   "cell_type": "code",
   "execution_count": 6,
   "metadata": {},
   "outputs": [
    {
     "data": {
      "text/plain": [
       "(422431, 21)"
      ]
     },
     "execution_count": 6,
     "metadata": {},
     "output_type": "execute_result"
    }
   ],
   "source": [
    "df_genres.shape"
   ]
  },
  {
   "cell_type": "code",
   "execution_count": 44,
   "metadata": {},
   "outputs": [
    {
     "data": {
      "text/plain": [
       "422354"
      ]
     },
     "execution_count": 44,
     "metadata": {},
     "output_type": "execute_result"
    }
   ],
   "source": [
    "df_genres['id'].nunique()"
   ]
  },
  {
   "cell_type": "code",
   "execution_count": 31,
   "metadata": {},
   "outputs": [],
   "source": [
    "# Xóa cột Unnamed:\n",
    "df_genres = df_genres.drop(columns=['Unnamed: 0'])"
   ]
  },
  {
   "cell_type": "code",
   "execution_count": 43,
   "metadata": {},
   "outputs": [
    {
     "data": {
      "text/plain": [
       "0"
      ]
     },
     "execution_count": 43,
     "metadata": {},
     "output_type": "execute_result"
    }
   ],
   "source": [
    "df_genres.duplicated().sum()"
   ]
  },
  {
   "cell_type": "code",
   "execution_count": 33,
   "metadata": {},
   "outputs": [],
   "source": [
    "df_genres = df_genres.drop_duplicates()"
   ]
  },
  {
   "cell_type": "code",
   "execution_count": 42,
   "metadata": {},
   "outputs": [
    {
     "data": {
      "text/plain": [
       "(422354, 20)"
      ]
     },
     "execution_count": 42,
     "metadata": {},
     "output_type": "execute_result"
    }
   ],
   "source": [
    "df_genres.shape"
   ]
  },
  {
   "cell_type": "code",
   "execution_count": 41,
   "metadata": {},
   "outputs": [
    {
     "data": {
      "text/html": [
       "<div>\n",
       "<style scoped>\n",
       "    .dataframe tbody tr th:only-of-type {\n",
       "        vertical-align: middle;\n",
       "    }\n",
       "\n",
       "    .dataframe tbody tr th {\n",
       "        vertical-align: top;\n",
       "    }\n",
       "\n",
       "    .dataframe thead th {\n",
       "        text-align: right;\n",
       "    }\n",
       "</style>\n",
       "<table border=\"1\" class=\"dataframe\">\n",
       "  <thead>\n",
       "    <tr style=\"text-align: right;\">\n",
       "      <th></th>\n",
       "      <th>id</th>\n",
       "      <th>Action</th>\n",
       "      <th>Science Fiction</th>\n",
       "      <th>Adventure</th>\n",
       "      <th>Drama</th>\n",
       "      <th>Crime</th>\n",
       "      <th>Thriller</th>\n",
       "      <th>Fantasy</th>\n",
       "      <th>Comedy</th>\n",
       "      <th>Western</th>\n",
       "      <th>Mystery</th>\n",
       "      <th>War</th>\n",
       "      <th>Animation</th>\n",
       "      <th>Family</th>\n",
       "      <th>Horror</th>\n",
       "      <th>Music</th>\n",
       "      <th>History</th>\n",
       "      <th>Romance</th>\n",
       "      <th>TV Movie</th>\n",
       "      <th>Documentary</th>\n",
       "    </tr>\n",
       "  </thead>\n",
       "  <tbody>\n",
       "    <tr>\n",
       "      <th>133223</th>\n",
       "      <td>1260267</td>\n",
       "      <td>False</td>\n",
       "      <td>False</td>\n",
       "      <td>False</td>\n",
       "      <td>False</td>\n",
       "      <td>False</td>\n",
       "      <td>False</td>\n",
       "      <td>False</td>\n",
       "      <td>False</td>\n",
       "      <td>False</td>\n",
       "      <td>False</td>\n",
       "      <td>False</td>\n",
       "      <td>False</td>\n",
       "      <td>False</td>\n",
       "      <td>False</td>\n",
       "      <td>False</td>\n",
       "      <td>False</td>\n",
       "      <td>False</td>\n",
       "      <td>False</td>\n",
       "      <td>False</td>\n",
       "    </tr>\n",
       "  </tbody>\n",
       "</table>\n",
       "</div>"
      ],
      "text/plain": [
       "             id  Action  Science Fiction  Adventure  Drama  Crime  Thriller  \\\n",
       "133223  1260267   False            False      False  False  False     False   \n",
       "\n",
       "        Fantasy  Comedy  Western  Mystery    War  Animation  Family  Horror  \\\n",
       "133223    False   False    False    False  False      False   False   False   \n",
       "\n",
       "        Music  History  Romance  TV Movie  Documentary  \n",
       "133223  False    False    False     False        False  "
      ]
     },
     "execution_count": 41,
     "metadata": {},
     "output_type": "execute_result"
    }
   ],
   "source": [
    "'''Các id bị trùng lặp và số lần xuất hiện:\n",
    "id\n",
    "1260267    2\n",
    "1361654    2\n",
    "1278956    2\n",
    "Name: count, dtype: int64'''\n",
    "df_genres[df_genres['id'] == 1260267]"
   ]
  },
  {
   "cell_type": "code",
   "execution_count": 45,
   "metadata": {},
   "outputs": [],
   "source": [
    "df_genres.to_csv('movie_genre_table.csv', index=False)"
   ]
  },
  {
   "cell_type": "markdown",
   "metadata": {},
   "source": [
    "---"
   ]
  },
  {
   "cell_type": "code",
   "execution_count": 46,
   "metadata": {},
   "outputs": [
    {
     "name": "stderr",
     "output_type": "stream",
     "text": [
      "C:\\Users\\ROCK\\AppData\\Local\\Temp\\ipykernel_21324\\3801725380.py:1: DtypeWarning: Columns (11,12,13,14,15,16,17,18,19,20,21,22,23,24,25,26,27,28,29,30,31) have mixed types. Specify dtype option on import or set low_memory=False.\n",
      "  df_companies = pd.read_csv('production_companies.csv')\n"
     ]
    }
   ],
   "source": [
    "df_companies = pd.read_csv('production_companies.csv')"
   ]
  },
  {
   "cell_type": "code",
   "execution_count": 47,
   "metadata": {},
   "outputs": [
    {
     "data": {
      "text/plain": [
       "(422431, 32)"
      ]
     },
     "execution_count": 47,
     "metadata": {},
     "output_type": "execute_result"
    }
   ],
   "source": [
    "df_companies.shape"
   ]
  },
  {
   "cell_type": "code",
   "execution_count": 49,
   "metadata": {},
   "outputs": [
    {
     "data": {
      "text/plain": [
       "422354"
      ]
     },
     "execution_count": 49,
     "metadata": {},
     "output_type": "execute_result"
    }
   ],
   "source": [
    "df_companies['id'].nunique()"
   ]
  },
  {
   "cell_type": "code",
   "execution_count": 50,
   "metadata": {},
   "outputs": [],
   "source": [
    "df_companies = df_companies.drop(columns=['Unnamed: 0'])"
   ]
  },
  {
   "cell_type": "code",
   "execution_count": 51,
   "metadata": {},
   "outputs": [
    {
     "data": {
      "text/plain": [
       "77"
      ]
     },
     "execution_count": 51,
     "metadata": {},
     "output_type": "execute_result"
    }
   ],
   "source": [
    "df_companies.duplicated().sum()"
   ]
  },
  {
   "cell_type": "code",
   "execution_count": 52,
   "metadata": {},
   "outputs": [],
   "source": [
    "df_companies = df_companies.drop_duplicates()"
   ]
  },
  {
   "cell_type": "code",
   "execution_count": 53,
   "metadata": {},
   "outputs": [
    {
     "data": {
      "text/plain": [
       "(422354, 31)"
      ]
     },
     "execution_count": 53,
     "metadata": {},
     "output_type": "execute_result"
    }
   ],
   "source": [
    "df_companies.shape"
   ]
  },
  {
   "cell_type": "code",
   "execution_count": 58,
   "metadata": {},
   "outputs": [
    {
     "data": {
      "text/html": [
       "<div>\n",
       "<style scoped>\n",
       "    .dataframe tbody tr th:only-of-type {\n",
       "        vertical-align: middle;\n",
       "    }\n",
       "\n",
       "    .dataframe tbody tr th {\n",
       "        vertical-align: top;\n",
       "    }\n",
       "\n",
       "    .dataframe thead th {\n",
       "        text-align: right;\n",
       "    }\n",
       "</style>\n",
       "<table border=\"1\" class=\"dataframe\">\n",
       "  <thead>\n",
       "    <tr style=\"text-align: right;\">\n",
       "      <th></th>\n",
       "      <th>id</th>\n",
       "      <th>product_company_n1</th>\n",
       "      <th>product_company_n2</th>\n",
       "      <th>product_company_n3</th>\n",
       "      <th>product_company_n4</th>\n",
       "      <th>product_company_n5</th>\n",
       "      <th>product_company_n6</th>\n",
       "      <th>product_company_n7</th>\n",
       "      <th>product_company_n8</th>\n",
       "      <th>product_company_n9</th>\n",
       "      <th>...</th>\n",
       "      <th>product_company_n21</th>\n",
       "      <th>product_company_n22</th>\n",
       "      <th>product_company_n23</th>\n",
       "      <th>product_company_n24</th>\n",
       "      <th>product_company_n25</th>\n",
       "      <th>product_company_n26</th>\n",
       "      <th>product_company_n27</th>\n",
       "      <th>product_company_n28</th>\n",
       "      <th>product_company_n29</th>\n",
       "      <th>product_company_n30</th>\n",
       "    </tr>\n",
       "  </thead>\n",
       "  <tbody>\n",
       "    <tr>\n",
       "      <th>266116</th>\n",
       "      <td>1278956</td>\n",
       "      <td>NaN</td>\n",
       "      <td>NaN</td>\n",
       "      <td>NaN</td>\n",
       "      <td>NaN</td>\n",
       "      <td>NaN</td>\n",
       "      <td>NaN</td>\n",
       "      <td>NaN</td>\n",
       "      <td>NaN</td>\n",
       "      <td>NaN</td>\n",
       "      <td>...</td>\n",
       "      <td>NaN</td>\n",
       "      <td>NaN</td>\n",
       "      <td>NaN</td>\n",
       "      <td>NaN</td>\n",
       "      <td>NaN</td>\n",
       "      <td>NaN</td>\n",
       "      <td>NaN</td>\n",
       "      <td>NaN</td>\n",
       "      <td>NaN</td>\n",
       "      <td>NaN</td>\n",
       "    </tr>\n",
       "  </tbody>\n",
       "</table>\n",
       "<p>1 rows × 31 columns</p>\n",
       "</div>"
      ],
      "text/plain": [
       "             id product_company_n1 product_company_n2 product_company_n3  \\\n",
       "266116  1278956                NaN                NaN                NaN   \n",
       "\n",
       "       product_company_n4 product_company_n5 product_company_n6  \\\n",
       "266116                NaN                NaN                NaN   \n",
       "\n",
       "       product_company_n7 product_company_n8 product_company_n9  ...  \\\n",
       "266116                NaN                NaN                NaN  ...   \n",
       "\n",
       "       product_company_n21 product_company_n22 product_company_n23  \\\n",
       "266116                 NaN                 NaN                 NaN   \n",
       "\n",
       "       product_company_n24 product_company_n25 product_company_n26  \\\n",
       "266116                 NaN                 NaN                 NaN   \n",
       "\n",
       "       product_company_n27 product_company_n28 product_company_n29  \\\n",
       "266116                 NaN                 NaN                 NaN   \n",
       "\n",
       "       product_company_n30  \n",
       "266116                 NaN  \n",
       "\n",
       "[1 rows x 31 columns]"
      ]
     },
     "execution_count": 58,
     "metadata": {},
     "output_type": "execute_result"
    }
   ],
   "source": [
    "df_companies[df_companies['id'] == 1278956]"
   ]
  },
  {
   "cell_type": "code",
   "execution_count": 59,
   "metadata": {},
   "outputs": [],
   "source": [
    "df_companies.to_csv('production_companies.csv', index=False)"
   ]
  },
  {
   "cell_type": "markdown",
   "metadata": {},
   "source": [
    "---"
   ]
  },
  {
   "cell_type": "code",
   "execution_count": 60,
   "metadata": {},
   "outputs": [
    {
     "name": "stderr",
     "output_type": "stream",
     "text": [
      "C:\\Users\\ROCK\\AppData\\Local\\Temp\\ipykernel_21324\\187581462.py:1: DtypeWarning: Columns (8,9,10,11,12,13,14,15,16,17,18,19,20,21,22,23,24,25,26,27,28,29,30,31,32,33,34,35,36,37,38,39,40,41,42,43,44,45,46,47,48,49,50,51,52,53,54,55,56,57,58,59,60) have mixed types. Specify dtype option on import or set low_memory=False.\n",
      "  df_countries = pd.read_csv('production_countries.csv')\n"
     ]
    }
   ],
   "source": [
    "df_countries = pd.read_csv('production_countries.csv')"
   ]
  },
  {
   "cell_type": "code",
   "execution_count": 61,
   "metadata": {},
   "outputs": [
    {
     "data": {
      "text/plain": [
       "(422431, 61)"
      ]
     },
     "execution_count": 61,
     "metadata": {},
     "output_type": "execute_result"
    }
   ],
   "source": [
    "df_countries.shape"
   ]
  },
  {
   "cell_type": "code",
   "execution_count": 63,
   "metadata": {},
   "outputs": [
    {
     "data": {
      "text/plain": [
       "422354"
      ]
     },
     "execution_count": 63,
     "metadata": {},
     "output_type": "execute_result"
    }
   ],
   "source": [
    "df_countries['id'].nunique()"
   ]
  },
  {
   "cell_type": "code",
   "execution_count": 64,
   "metadata": {},
   "outputs": [],
   "source": [
    "df_countries = df_countries.drop(columns=['Unnamed: 0'])"
   ]
  },
  {
   "cell_type": "code",
   "execution_count": 65,
   "metadata": {},
   "outputs": [
    {
     "data": {
      "text/plain": [
       "77"
      ]
     },
     "execution_count": 65,
     "metadata": {},
     "output_type": "execute_result"
    }
   ],
   "source": [
    "df_countries.duplicated().sum()"
   ]
  },
  {
   "cell_type": "code",
   "execution_count": 66,
   "metadata": {},
   "outputs": [],
   "source": [
    "df_countries = df_countries.drop_duplicates()"
   ]
  },
  {
   "cell_type": "code",
   "execution_count": 67,
   "metadata": {},
   "outputs": [
    {
     "data": {
      "text/plain": [
       "(422354, 60)"
      ]
     },
     "execution_count": 67,
     "metadata": {},
     "output_type": "execute_result"
    }
   ],
   "source": [
    "df_countries.shape"
   ]
  },
  {
   "cell_type": "code",
   "execution_count": 71,
   "metadata": {},
   "outputs": [
    {
     "data": {
      "text/html": [
       "<div>\n",
       "<style scoped>\n",
       "    .dataframe tbody tr th:only-of-type {\n",
       "        vertical-align: middle;\n",
       "    }\n",
       "\n",
       "    .dataframe tbody tr th {\n",
       "        vertical-align: top;\n",
       "    }\n",
       "\n",
       "    .dataframe thead th {\n",
       "        text-align: right;\n",
       "    }\n",
       "</style>\n",
       "<table border=\"1\" class=\"dataframe\">\n",
       "  <thead>\n",
       "    <tr style=\"text-align: right;\">\n",
       "      <th></th>\n",
       "      <th>id</th>\n",
       "      <th>product_country_n1</th>\n",
       "      <th>product_country_n2</th>\n",
       "      <th>product_country_n3</th>\n",
       "      <th>product_country_n4</th>\n",
       "      <th>product_country_n5</th>\n",
       "      <th>product_country_n6</th>\n",
       "      <th>product_country_n7</th>\n",
       "      <th>product_country_n8</th>\n",
       "      <th>product_country_n9</th>\n",
       "      <th>...</th>\n",
       "      <th>product_country_n50</th>\n",
       "      <th>product_country_n51</th>\n",
       "      <th>product_country_n52</th>\n",
       "      <th>product_country_n53</th>\n",
       "      <th>product_country_n54</th>\n",
       "      <th>product_country_n55</th>\n",
       "      <th>product_country_n56</th>\n",
       "      <th>product_country_n57</th>\n",
       "      <th>product_country_n58</th>\n",
       "      <th>product_country_n59</th>\n",
       "    </tr>\n",
       "  </thead>\n",
       "  <tbody>\n",
       "    <tr>\n",
       "      <th>133223</th>\n",
       "      <td>1260267</td>\n",
       "      <td>United States of America</td>\n",
       "      <td>NaN</td>\n",
       "      <td>NaN</td>\n",
       "      <td>NaN</td>\n",
       "      <td>NaN</td>\n",
       "      <td>NaN</td>\n",
       "      <td>NaN</td>\n",
       "      <td>NaN</td>\n",
       "      <td>NaN</td>\n",
       "      <td>...</td>\n",
       "      <td>NaN</td>\n",
       "      <td>NaN</td>\n",
       "      <td>NaN</td>\n",
       "      <td>NaN</td>\n",
       "      <td>NaN</td>\n",
       "      <td>NaN</td>\n",
       "      <td>NaN</td>\n",
       "      <td>NaN</td>\n",
       "      <td>NaN</td>\n",
       "      <td>NaN</td>\n",
       "    </tr>\n",
       "  </tbody>\n",
       "</table>\n",
       "<p>1 rows × 60 columns</p>\n",
       "</div>"
      ],
      "text/plain": [
       "             id        product_country_n1 product_country_n2  \\\n",
       "133223  1260267  United States of America                NaN   \n",
       "\n",
       "       product_country_n3 product_country_n4 product_country_n5  \\\n",
       "133223                NaN                NaN                NaN   \n",
       "\n",
       "       product_country_n6 product_country_n7 product_country_n8  \\\n",
       "133223                NaN                NaN                NaN   \n",
       "\n",
       "       product_country_n9  ... product_country_n50 product_country_n51  \\\n",
       "133223                NaN  ...                 NaN                 NaN   \n",
       "\n",
       "       product_country_n52 product_country_n53 product_country_n54  \\\n",
       "133223                 NaN                 NaN                 NaN   \n",
       "\n",
       "       product_country_n55 product_country_n56 product_country_n57  \\\n",
       "133223                 NaN                 NaN                 NaN   \n",
       "\n",
       "       product_country_n58 product_country_n59  \n",
       "133223                 NaN                 NaN  \n",
       "\n",
       "[1 rows x 60 columns]"
      ]
     },
     "execution_count": 71,
     "metadata": {},
     "output_type": "execute_result"
    }
   ],
   "source": [
    "df_countries[df_countries['id'] == 1260267]"
   ]
  },
  {
   "cell_type": "code",
   "execution_count": 73,
   "metadata": {},
   "outputs": [],
   "source": [
    "df_countries.to_csv('production_countries.csv', index=False)"
   ]
  }
 ],
 "metadata": {
  "kernelspec": {
   "display_name": "base",
   "language": "python",
   "name": "python3"
  },
  "language_info": {
   "codemirror_mode": {
    "name": "ipython",
    "version": 3
   },
   "file_extension": ".py",
   "mimetype": "text/x-python",
   "name": "python",
   "nbconvert_exporter": "python",
   "pygments_lexer": "ipython3",
   "version": "3.11.7"
  }
 },
 "nbformat": 4,
 "nbformat_minor": 2
}
